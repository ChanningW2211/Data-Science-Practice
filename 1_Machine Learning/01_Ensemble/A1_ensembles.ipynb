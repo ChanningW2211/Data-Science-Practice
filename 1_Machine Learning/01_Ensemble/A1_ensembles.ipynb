{
 "cells": [
  {
   "cell_type": "markdown",
   "metadata": {},
   "source": [
    "# Assignment 1"
   ]
  },
  {
   "cell_type": "markdown",
   "metadata": {},
   "source": [
    "Import packages"
   ]
  },
  {
   "cell_type": "code",
   "execution_count": 1,
   "metadata": {},
   "outputs": [],
   "source": [
    "import pandas as pd\n",
    "import numpy as np\n",
    "from sklearn.tree import DecisionTreeClassifier\n",
    "from sklearn.ensemble import RandomForestClassifier\n",
    "from sklearn.ensemble import AdaBoostClassifier\n",
    "from sklearn.ensemble import BaggingClassifier\n",
    "from sklearn.ensemble import ExtraTreesClassifier\n",
    "from sklearn.model_selection  import train_test_split\n",
    "from autorank import autorank, create_report, plot_stats"
   ]
  },
  {
   "cell_type": "markdown",
   "metadata": {},
   "source": [
    "Read data"
   ]
  },
  {
   "cell_type": "code",
   "execution_count": 2,
   "metadata": {},
   "outputs": [],
   "source": [
    "ar = pd.read_csv('arrhythmia.csv')\n",
    "ca = pd.read_csv('caesarian.csv')\n",
    "wp = pd.read_csv('website-phishing.csv')"
   ]
  },
  {
   "cell_type": "markdown",
   "metadata": {},
   "source": [
    "Arrhythmia"
   ]
  },
  {
   "cell_type": "code",
   "execution_count": 3,
   "metadata": {},
   "outputs": [
    {
     "name": "stdout",
     "output_type": "stream",
     "text": [
      "RankResult(rankdf=\n",
      "              meanrank    median       mad  ci_lower  ci_upper effect_size  \\\n",
      "Bagging           1.50  0.702358  0.087555  0.550868  0.803419         0.0   \n",
      "ExtraTrees        2.00  0.682712  0.064756  0.565757  0.752137    0.255126   \n",
      "RandomForest      2.65  0.680737  0.074962  0.563275  0.735043    0.265281   \n",
      "AdaBoost          4.15  0.624769   0.04542  0.563275  0.666667    1.112455   \n",
      "DecisionTree      4.70  0.604606  0.039609  0.183623  0.679012    1.438564   \n",
      "\n",
      "               magnitude  \n",
      "Bagging       negligible  \n",
      "ExtraTrees         small  \n",
      "RandomForest       small  \n",
      "AdaBoost           large  \n",
      "DecisionTree       large  \n",
      "pvalue=3.885067488345842e-06\n",
      "cd=1.9288111473713958\n",
      "omnibus=friedman\n",
      "posthoc=nemenyi\n",
      "all_normal=False\n",
      "pvals_shapiro=[0.0004982678801752627, 0.07376586645841599, 0.16369430720806122, 0.5802350640296936, 0.57322096824646]\n",
      "homoscedastic=True\n",
      "pval_homogeneity=0.6385993426914864\n",
      "homogeneity_test=levene\n",
      "alpha=0.05\n",
      "alpha_normality=0.01\n",
      "num_samples=10\n",
      "posterior_matrix=\n",
      "None\n",
      "decision_matrix=\n",
      "None\n",
      "rope=None\n",
      "rope_mode=None\n",
      "effect_size=akinshin_gamma)\n",
      "The statistical analysis was conducted for 5 populations with 10 paired samples.\n",
      "The family-wise significance level of the tests is alpha=0.050.\n",
      "We rejected the null hypothesis that the population is normal for the population Bagging (p=0.000). Therefore, we assume that not all populations are normal.\n",
      "Because we have more than two populations and the populations and one of them is not normal, we use the non-parametric Friedman test as omnibus test to determine if there are any significant differences between the median values of the populations. We use the post-hoc Nemenyi test to infer which differences are significant. We report the median (MD), the median absolute deviation (MAD) and the mean rank (MR) among all populations over the samples. Differences between populations are significant, if the difference of the mean rank is greater than the critical distance CD=1.929 of the Nemenyi test.\n",
      "We reject the null hypothesis (p=0.000) of the Friedman test that there is no difference in the central tendency of the populations Bagging (MD=0.702+-0.126, MAD=0.088, MR=1.500), ExtraTrees (MD=0.683+-0.093, MAD=0.065, MR=2.000), RandomForest (MD=0.681+-0.086, MAD=0.075, MR=2.650), AdaBoost (MD=0.625+-0.052, MAD=0.045, MR=4.150), and DecisionTree (MD=0.605+-0.248, MAD=0.040, MR=4.700). Therefore, we assume that there is a statistically significant difference between the median values of the populations.\n",
      "Based on the post-hoc Nemenyi test, we assume that there are no significant differences within the following groups: Bagging, ExtraTrees, and RandomForest; RandomForest and AdaBoost; AdaBoost and DecisionTree. All other differences are significant.\n"
     ]
    },
    {
     "data": {
      "text/plain": [
       "<matplotlib.axes._axes.Axes at 0x16f70d0a0>"
      ]
     },
     "execution_count": 3,
     "metadata": {},
     "output_type": "execute_result"
    },
    {
     "data": {
      "image/png": "[encoded data removed]",
      "text/plain": [
       "<Figure size 432x133.2 with 1 Axes>"
      ]
     },
     "metadata": {},
     "output_type": "display_data"
    }
   ],
   "source": [
    "ar.drop(' J', axis=1, inplace=True)\n",
    "ar.replace('?', np.nan, inplace=True)\n",
    "ar.dropna(inplace=True)\n",
    "y = ar['class']\n",
    "X = ar.drop('class', axis=1)\n",
    "\n",
    "RANDOM_STATE = 1234\n",
    "np.random.seed(RANDOM_STATE)\n",
    "df = pd.DataFrame(columns=['DecisionTree', 'RandomForest', 'AdaBoost', 'Bagging', 'ExtraTrees'])\n",
    "for x in np.random.rand(10):\n",
    "    X_train, X_test, y_train, y_test = train_test_split(X, y, test_size=x, random_state=RANDOM_STATE)\n",
    "\n",
    "    dt = DecisionTreeClassifier(random_state=RANDOM_STATE)\n",
    "    dt.fit(X_train, y_train)\n",
    "    \n",
    "    rf = RandomForestClassifier(max_depth=10, random_state= RANDOM_STATE)\n",
    "    rf.fit(X_train, y_train)\n",
    "    \n",
    "    ab = AdaBoostClassifier(random_state=RANDOM_STATE)\n",
    "    ab.fit(X_train, y_train)\n",
    "    \n",
    "    bagging = BaggingClassifier(random_state=RANDOM_STATE)\n",
    "    bagging.fit(X_train, y_train)\n",
    "    \n",
    "    et = ExtraTreesClassifier(random_state=RANDOM_STATE)\n",
    "    et.fit(X_train, y_train)\n",
    "    \n",
    "    df = df.append({'DecisionTree':dt.score(X_test, y_test), 'RandomForest':rf.score(X_test, y_test), 'AdaBoost':ab.score(X_test, y_test), 'Bagging':bagging.score(X_test, y_test), 'ExtraTrees':et.score(X_test, y_test)}, ignore_index=True)\n",
    "\n",
    "result = autorank(df, verbose=False)\n",
    "print(result)\n",
    "create_report(result)\n",
    "plot_stats(result)"
   ]
  },
  {
   "cell_type": "markdown",
   "metadata": {},
   "source": [
    "Caesarian"
   ]
  },
  {
   "cell_type": "code",
   "execution_count": 4,
   "metadata": {},
   "outputs": [
    {
     "name": "stdout",
     "output_type": "stream",
     "text": [
      "RankResult(rankdf=\n",
      "              meanrank      mean       std  ci_lower  ci_upper effect_size  \\\n",
      "RandomForest      2.60  0.583565  0.074974  0.529434  0.637697         0.0   \n",
      "ExtraTrees        2.85  0.584706  0.085837  0.530574  0.638838    -0.01415   \n",
      "DecisionTree      3.10  0.568558  0.079160  0.514426   0.62269    0.194665   \n",
      "Bagging           3.20  0.559837  0.096306  0.505705  0.613969    0.274945   \n",
      "AdaBoost          3.25  0.568462  0.088088   0.51433  0.622594    0.184657   \n",
      "\n",
      "               magnitude  \n",
      "RandomForest  negligible  \n",
      "ExtraTrees    negligible  \n",
      "DecisionTree  negligible  \n",
      "Bagging            small  \n",
      "AdaBoost      negligible  \n",
      "pvalue=0.9127687660201369\n",
      "cd=None\n",
      "omnibus=anova\n",
      "posthoc=tukeyhsd\n",
      "all_normal=True\n",
      "pvals_shapiro=[0.12805140018463135, 0.2545742690563202, 0.01835554651916027, 0.05081353336572647, 0.04389895126223564]\n",
      "homoscedastic=True\n",
      "pval_homogeneity=0.9573790050510111\n",
      "homogeneity_test=bartlett\n",
      "alpha=0.05\n",
      "alpha_normality=0.01\n",
      "num_samples=10\n",
      "posterior_matrix=\n",
      "None\n",
      "decision_matrix=\n",
      "None\n",
      "rope=None\n",
      "rope_mode=None\n",
      "effect_size=cohen_d)\n"
     ]
    },
    {
     "name": "stderr",
     "output_type": "stream",
     "text": [
      "/Users/channingwang/opt/anaconda3/envs/compsci762/lib/python3.9/site-packages/statsmodels/sandbox/stats/multicomp.py:775: UserWarning: FixedFormatter should only be used together with FixedLocator\n",
      "  ax1.set_yticklabels(np.insert(self.groupsunique.astype(str), 0, ''))\n"
     ]
    }
   ],
   "source": [
    "y = ca['class']\n",
    "X = ca.drop('class', axis=1)\n",
    "\n",
    "RANDOM_STATE = 1234\n",
    "np.random.seed(RANDOM_STATE)\n",
    "df = pd.DataFrame(columns=['DecisionTree', 'RandomForest', 'AdaBoost', 'Bagging', 'ExtraTrees'])\n",
    "for x in np.random.rand(10):\n",
    "    X_train, X_test, y_train, y_test = train_test_split(X, y, test_size=x, random_state=RANDOM_STATE)\n",
    "\n",
    "    dt = DecisionTreeClassifier(random_state=RANDOM_STATE)\n",
    "    dt.fit(X_train, y_train)\n",
    "    \n",
    "    rf = RandomForestClassifier(max_depth=10, random_state= RANDOM_STATE)\n",
    "    rf.fit(X_train, y_train)\n",
    "    \n",
    "    ab = AdaBoostClassifier(random_state=RANDOM_STATE)\n",
    "    ab.fit(X_train, y_train)\n",
    "    \n",
    "    bagging = BaggingClassifier(random_state=RANDOM_STATE)\n",
    "    bagging.fit(X_train, y_train)\n",
    "    \n",
    "    et = ExtraTreesClassifier(random_state=RANDOM_STATE)\n",
    "    et.fit(X_train, y_train)\n",
    "    \n",
    "    df = df.append({'DecisionTree':dt.score(X_test, y_test), 'RandomForest':rf.score(X_test, y_test), 'AdaBoost':ab.score(X_test, y_test), 'Bagging':bagging.score(X_test, y_test), 'ExtraTrees':et.score(X_test, y_test)}, ignore_index=True)\n",
    "\n",
    "result = autorank(df, verbose=False)\n",
    "print(result)"
   ]
  },
  {
   "cell_type": "markdown",
   "metadata": {},
   "source": [
    "Phishing Websites"
   ]
  },
  {
   "cell_type": "code",
   "execution_count": 5,
   "metadata": {},
   "outputs": [
    {
     "name": "stdout",
     "output_type": "stream",
     "text": [
      "RankResult(rankdf=\n",
      "              meanrank      mean       std  ci_lower  ci_upper effect_size  \\\n",
      "ExtraTrees         1.2  0.959933  0.011239  0.948382  0.971483         0.0   \n",
      "Bagging            2.4  0.952545  0.014957  0.937173  0.967916     0.55846   \n",
      "RandomForest       2.8  0.947654  0.004647  0.942878  0.952429    1.427799   \n",
      "DecisionTree       3.9  0.940911  0.021561  0.918753   0.96307     1.10632   \n",
      "AdaBoost           4.7  0.934629  0.004611   0.92989  0.939367     2.94568   \n",
      "\n",
      "               magnitude  \n",
      "ExtraTrees    negligible  \n",
      "Bagging           medium  \n",
      "RandomForest       large  \n",
      "DecisionTree       large  \n",
      "AdaBoost           large  \n",
      "pvalue=6.605459954609622e-06\n",
      "cd=1.9288111473713958\n",
      "omnibus=friedman\n",
      "posthoc=nemenyi\n",
      "all_normal=True\n",
      "pvals_shapiro=[0.2335275411605835, 0.06855439394712448, 0.02319963276386261, 0.37822917103767395, 0.14493343234062195]\n",
      "homoscedastic=False\n",
      "pval_homogeneity=1.4943317185163718e-05\n",
      "homogeneity_test=bartlett\n",
      "alpha=0.05\n",
      "alpha_normality=0.01\n",
      "num_samples=10\n",
      "posterior_matrix=\n",
      "None\n",
      "decision_matrix=\n",
      "None\n",
      "rope=None\n",
      "rope_mode=None\n",
      "effect_size=cohen_d)\n",
      "The statistical analysis was conducted for 5 populations with 10 paired samples.\n",
      "The family-wise significance level of the tests is alpha=0.050.\n",
      "We failed to reject the null hypothesis that the population is normal for all populations (minimal observed p-value=0.023). Therefore, we assume that all populations are normal.\n",
      "We applied Bartlett's test for homogeneity and reject the null hypothesis (p=0.000) that thedata is homoscedastic. Thus, we assume that our data is heteroscedastic.\n",
      "Because we have more than two populations and the populations are normal but heteroscedastic, we use the non-parametric Friedman test as omnibus test to determine if there are any significant differences between the mean values of the populations. We use the post-hoc Nemenyi test to infer which differences are significant. We report the mean value (M), the standard deviation (SD) and the mean rank (MR) among all populations over the samples. Differences between populations are significant, if the difference of the mean rank is greater than the critical distance CD=1.929 of the Nemenyi test.\n",
      "We reject the null hypothesis (p=0.000) of the Friedman test that there is no difference in the central tendency of the populations ExtraTrees (M=0.960+-0.012, SD=0.011, MR=1.200), Bagging (M=0.953+-0.015, SD=0.015, MR=2.400), RandomForest (M=0.948+-0.005, SD=0.005, MR=2.800), DecisionTree (M=0.941+-0.022, SD=0.022, MR=3.900), and AdaBoost (M=0.935+-0.005, SD=0.005, MR=4.700). Therefore, we assume that there is a statistically significant difference between the median values of the populations.\n",
      "Based on the post-hoc Nemenyi test, we assume that there are no significant differences within the following groups: ExtraTrees, Bagging, and RandomForest; Bagging, RandomForest, and DecisionTree; RandomForest, DecisionTree, and AdaBoost. All other differences are significant.\n"
     ]
    },
    {
     "data": {
      "text/plain": [
       "<matplotlib.axes._axes.Axes at 0x16f5e2100>"
      ]
     },
     "execution_count": 5,
     "metadata": {},
     "output_type": "execute_result"
    },
    {
     "data": {
      "image/png": "[encoded data removed]",
      "text/plain": [
       "<Figure size 432x133.2 with 1 Axes>"
      ]
     },
     "metadata": {},
     "output_type": "display_data"
    }
   ],
   "source": [
    "y = wp['  Class ']\n",
    "X = wp.drop('  Class ', axis=1)\n",
    "\n",
    "RANDOM_STATE = 1234\n",
    "np.random.seed(RANDOM_STATE)\n",
    "df = pd.DataFrame(columns=['DecisionTree', 'RandomForest', 'AdaBoost', 'Bagging', 'ExtraTrees'])\n",
    "for x in np.random.rand(10):\n",
    "    X_train, X_test, y_train, y_test = train_test_split(X, y, test_size=x, random_state=RANDOM_STATE)\n",
    "\n",
    "    dt = DecisionTreeClassifier(random_state=RANDOM_STATE)\n",
    "    dt.fit(X_train, y_train)\n",
    "    \n",
    "    rf = RandomForestClassifier(max_depth=10, random_state= RANDOM_STATE)\n",
    "    rf.fit(X_train, y_train)\n",
    "    \n",
    "    ab = AdaBoostClassifier(random_state=RANDOM_STATE)\n",
    "    ab.fit(X_train, y_train)\n",
    "    \n",
    "    bagging = BaggingClassifier(random_state=RANDOM_STATE)\n",
    "    bagging.fit(X_train, y_train)\n",
    "    \n",
    "    et = ExtraTreesClassifier(random_state=RANDOM_STATE)\n",
    "    et.fit(X_train, y_train)\n",
    "    \n",
    "    df = df.append({'DecisionTree':dt.score(X_test, y_test), 'RandomForest':rf.score(X_test, y_test), 'AdaBoost':ab.score(X_test, y_test), 'Bagging':bagging.score(X_test, y_test), 'ExtraTrees':et.score(X_test, y_test)}, ignore_index=True)\n",
    "\n",
    "result = autorank(df, verbose=False)\n",
    "print(result)\n",
    "create_report(result)\n",
    "plot_stats(result)"
   ]
  },
  {
   "cell_type": "markdown",
   "metadata": {},
   "source": [
    "1. Bagging, Random Forest, Extra Trees did better than others for Arrhythmia, Caesarian, Phishing Websites respectively. The design is to randomize the proportion used for the trainning sets and took the rest as validation sets.\n",
    "2. Auto Rank support the conclusion\n",
    "3. AdaBoost did the worst on Caesarian as the data itself has some problems with the right classificaiton and AdaBoost amplified that\n",
    "4. Random forest can do well on most of the jobs as downsize column and trainning sets at the same time. The only thing is it work best with unprunned deep trees so has to control the max-depth."
   ]
  }
 ],
 "metadata": {
  "kernelspec": {
   "display_name": "Python 3",
   "language": "python",
   "name": "python3"
  },
  "language_info": {
   "codemirror_mode": {
    "name": "ipython",
    "version": 3
   },
   "file_extension": ".py",
   "mimetype": "text/x-python",
   "name": "python",
   "nbconvert_exporter": "python",
   "pygments_lexer": "ipython3",
   "version": "3.9.2"
  }
 },
 "nbformat": 4,
 "nbformat_minor": 4
}
